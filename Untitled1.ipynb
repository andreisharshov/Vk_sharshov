{
 "cells": [
  {
   "cell_type": "code",
   "execution_count": 212,
   "metadata": {},
   "outputs": [
    {
     "name": "stdout",
     "output_type": "stream",
     "text": [
      "Ссылка пользователя - https://vk.com/a_sharshov\n",
      "a_sharshov\n",
      "{'phone': '+7 *** *** ** 49', 'country': {'id': 1, 'title': 'Россия'}, 'sex': 2, 'first_name': 'Андрей', 'bdate_visibility': 2, 'city': {'id': 2, 'title': 'Санкт-Петербург'}, 'last_name': 'Иванов', 'home_town': '', 'bdate': '20.5.2003', 'status': '', 'relation': 0}\n",
      "[{'id': 2943984, 'last_name': 'Шаршов', 'can_access_closed': True, 'first_name': 'Андрей', 'is_closed': False}]\n"
     ]
    },
    {
     "data": {
      "text/plain": [
       "\"\\nphotos_count = vkapi.photos.getAlbums(owner_id=owner_id, v = 5.95)\\n#print(photos_count)\\n#print('\\n')\\nlist_Albums = []\\n\\na = photos_count.get('items')\\nprint(a)\\nfor t in a:\\n    b = t.get('id')\\n    list_Albums.append(str(b))\\nprint(list_Albums)\\nfor albums in list_Albums:\\n    try:\\n        Download_photo(albums)\\n    except:\\n        continue\\n\""
      ]
     },
     "execution_count": 212,
     "metadata": {},
     "output_type": "execute_result"
    }
   ],
   "source": [
    "from urllib.request import urlretrieve\n",
    "import vk, os, time, math, vk_api\n",
    "\n",
    "import vk_api\n",
    "\n",
    "\n",
    "def main():\n",
    "\n",
    "    login, password = '+79119781349', 'Zenit1984'\n",
    "    vk_session = vk_api.VkApi(login, password)\n",
    "\n",
    "    try:\n",
    "        vk_session.auth(token_only=True)\n",
    "    except vk_api.AuthError as error_msg:\n",
    "        print(error_msg)\n",
    "        return\n",
    "\n",
    "    vk = vk_session.get_api()\n",
    "    \n",
    "if __name__ == '__main__':\n",
    "    main()\n",
    "\n",
    "main_request = input('Ссылка пользователя - ')\n",
    "main_request = main_request.split('/')\n",
    "screenname = main_request[-1]\n",
    "print(screenname)\n",
    "\n",
    "id_get = vkapi.account.getProfileInfo(v=5.95)\n",
    "print(id_get)\n",
    "\n",
    "owner_id = 2943984\n",
    "\n",
    "user_get = vkapi.users.get(user_id = owner_id, v=5.95)\n",
    "print(user_get)\n",
    "firstname = user_get[0].get('first_name')\n",
    "lastname = user_get[0].get('last_name')\n",
    "\n",
    "def Download_photo(X):\n",
    "    counter = 0 # текущий счетчик\n",
    "    prog = 0 # процент загруженных\n",
    "    breaked = 0 # не загружено из-за ошибки\n",
    "    time_now = time.time() # время старта\n",
    "    \n",
    "    if not os.path.exists('saved_from_VK'):\n",
    "        os.mkdir('saved_from_VK')\n",
    "    \n",
    "    photo_folder = 'saved/{0}_{1}_{2}'.format(lastname, firstname, X)\n",
    "    if not os.path.exists(photo_folder):\n",
    "        os.mkdir(photo_folder)\n",
    "   \n",
    "    for j in range(len(photos_count.get('items'))): # Подсчитаем&nbsp;сколько раз нужно получать список фото, так как число получится не целое - округляем в большую сторону\n",
    "\n",
    "        photos = vkapi.photos.get(owner_id=owner_id, album_id = X, count=1000, offset=j*1000, v = 5.95) #&nbsp;Получаем список фото\n",
    "        a = photos.get('items')\n",
    "        for photo in range(len(a)):\n",
    "            counter += 1\n",
    "\n",
    "            b = a[photo].get('sizes')\n",
    "            url = b[-1].get('url')\n",
    "            print('Загружаю фото № {} из {}. Прогресс: {} %'.format(counter, len(a), prog))\n",
    "            #print(url)\n",
    "            prog = round(100/len(a)*counter,2)\n",
    "\n",
    "            try:\n",
    "                urlretrieve(url, photo_folder + \"/\" + os.path.split(url)[1]) # Загружаем и сохраняем файл\n",
    "            except Exception:\n",
    "                    print('Произошла ошибка, файл пропущен.')\n",
    "                    breaked += 1\n",
    "                    continue\n",
    "    else:\n",
    "        print(\"Все фото загружены.\")\n",
    "'''\n",
    "photos_count = vkapi.photos.getAlbums(owner_id=owner_id, v = 5.95)\n",
    "#print(photos_count)\n",
    "#print('\\n')\n",
    "list_Albums = []\n",
    "\n",
    "a = photos_count.get('items')\n",
    "print(a)\n",
    "for t in a:\n",
    "    b = t.get('id')\n",
    "    list_Albums.append(str(b))\n",
    "print(list_Albums)\n",
    "for albums in list_Albums:\n",
    "    try:\n",
    "        Download_photo(albums)\n",
    "    except:\n",
    "        continue\n",
    "'''   \n",
    "    "
   ]
  },
  {
   "cell_type": "markdown",
   "metadata": {},
   "source": [
    "### "
   ]
  },
  {
   "cell_type": "code",
   "execution_count": null,
   "metadata": {},
   "outputs": [],
   "source": []
  }
 ],
 "metadata": {
  "kernelspec": {
   "display_name": "Python [conda env:anaconda3]",
   "language": "python",
   "name": "conda-env-anaconda3-py"
  },
  "language_info": {
   "codemirror_mode": {
    "name": "ipython",
    "version": 3
   },
   "file_extension": ".py",
   "mimetype": "text/x-python",
   "name": "python",
   "nbconvert_exporter": "python",
   "pygments_lexer": "ipython3",
   "version": "3.5.6"
  }
 },
 "nbformat": 4,
 "nbformat_minor": 2
}
